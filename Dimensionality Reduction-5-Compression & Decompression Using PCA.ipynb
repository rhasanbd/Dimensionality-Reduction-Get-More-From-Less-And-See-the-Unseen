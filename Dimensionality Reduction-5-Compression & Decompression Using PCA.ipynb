{
 "cells": [
  {
   "cell_type": "markdown",
   "metadata": {},
   "source": [
    "# Dimensionality Reduction - Data Compression & Decompression Using PCA\n",
    "\n",
    "\n",
    "In this notebook we explore the following applications of Principle Component Analysis (PCA).\n",
    "\n",
    "- Data Compression\n",
    "- Data Decompression\n"
   ]
  },
  {
   "cell_type": "markdown",
   "metadata": {},
   "source": [
    "## Dataset: MNIST\n",
    "\n",
    "We use the MNIST (Modified National Institute of Standards and Technology) dataset, which is a set of 70,000 small images of digits handwritten by high school students and employees of the US Census Bureau. Each image is labeled with the digit it represents.\n",
    "\n",
    "There are 70,000 images. Each image is **grayscale 28 x 28 pixels**, and each feature simply represents one pixel’s intensity, from 0 (white) to 255 (black).\n",
    "\n",
    "Thus, each image has **784 features**. "
   ]
  },
  {
   "cell_type": "code",
   "execution_count": 1,
   "metadata": {},
   "outputs": [],
   "source": [
    "import warnings\n",
    "import time\n",
    "import numpy as np\n",
    "import pandas as pd\n",
    "from scipy.io import loadmat\n",
    "import copy \n",
    "%matplotlib inline\n",
    "import matplotlib.pyplot as plt\n",
    "import matplotlib as mpl\n",
    "\n",
    "\n",
    "from sklearn.datasets import fetch_openml\n",
    "from sklearn.linear_model import LogisticRegression\n",
    "from sklearn.metrics import mean_squared_error\n",
    "from sklearn.model_selection import train_test_split\n",
    "\n",
    "from sklearn.preprocessing import StandardScaler\n",
    "\n",
    "from sklearn.decomposition import PCA"
   ]
  },
  {
   "cell_type": "markdown",
   "metadata": {},
   "source": [
    "## Load Data, Create Data Matrix (X) & Target Vector (y)\n",
    "\n",
    "Load the data from a local folder or load it directly from cloud using Scikit-Learn.\n"
   ]
  },
  {
   "cell_type": "code",
   "execution_count": 2,
   "metadata": {},
   "outputs": [
    {
     "name": "stdout",
     "output_type": "stream",
     "text": [
      "\n",
      "No. of Samples:  (70000, 784)\n",
      "No. of Labels:  (70000,)\n",
      "X Type:  float64\n",
      "y Type:  int64\n"
     ]
    }
   ],
   "source": [
    "# Load the data from the local folder \"data\"\n",
    "mnist = loadmat('/Users/hasan/datasets/MNIST/mnist-original.mat')\n",
    "\n",
    "# Create the data Matrix X and the target vector y\n",
    "X = mnist[\"data\"].T.astype('float64')\n",
    "y = mnist[\"label\"][0].astype('int64')\n",
    "\n",
    "\n",
    "# Load data using Scikit-Learn\n",
    "#mnist = fetch_openml('mnist_784', cache=False)\n",
    "\n",
    "\n",
    "# X = mnist[\"data\"].astype('float64')\n",
    "# y = mnist[\"target\"].astype('int64')\n",
    "\n",
    "\n",
    "print(\"\\nNo. of Samples: \", X.shape)\n",
    "print(\"No. of Labels: \", y.shape)\n",
    "\n",
    "print(\"X Type: \", X.dtype)\n",
    "print(\"y Type: \", y.dtype)\n"
   ]
  },
  {
   "cell_type": "markdown",
   "metadata": {},
   "source": [
    "# PCA for Data Compression\n",
    "\n",
    "We can optimize the running-time of a Machine Learning algorithm by reducing the number of features. Our assumption is that the essence or core content of the data does not span along all dimensions. The technique for reducing the dimension of data is known as dimensionality reduction.\n",
    "\n",
    "We can use the **PCA** dimensionality reduction technique to project the MNIST dataset (784 features) to a lower dimensional space by retaining maximum variance. \n",
    "\n",
    "The goal is to see the improvement in training time due to this dimensionality reduction.\n",
    "\n",
    "Before we apply the PCA, we need to standardize the data.\n",
    "\n",
    "Note that in PCA we prefer standardization over Min-Max scaling, since we are interested in the components that maximize the variance. "
   ]
  },
  {
   "cell_type": "markdown",
   "metadata": {},
   "source": [
    "## Standardize the Data\n",
    "\n",
    "PCA is influenced by scale of the data. Thus we need to scale the features of the data before applying PCA. \n",
    "\n",
    "For understanding the negative effect of not scaling the data, see the following post:\n",
    "\n",
    "https://scikit-learn.org/stable/auto_examples/preprocessing/plot_scaling_importance.html#sphx-glr-auto-examples-preprocessing-plot-scaling-importance-py\n",
    "\n",
    "Note that we fit the scaler on the training set and transform on the training and test set. "
   ]
  },
  {
   "cell_type": "code",
   "execution_count": 3,
   "metadata": {},
   "outputs": [],
   "source": [
    "X_train, X_test, y_train, y_test = train_test_split(X, y, test_size=0.2, random_state=0)\n",
    "\n",
    "\n",
    "scaler = StandardScaler()\n",
    "\n",
    "# Fit on training set only.\n",
    "scaler.fit(X_train)\n",
    "\n",
    "# Apply transform to both the training set and the test set.\n",
    "X_train = scaler.transform(X_train)\n",
    "X_test = scaler.transform(X_test)"
   ]
  },
  {
   "cell_type": "markdown",
   "metadata": {},
   "source": [
    "## Apply PCA\n",
    "\n",
    "While applying PCA we can set the number of principle components by the \"n_components\" attribute. But more importantly, we can use this attribute to determine the % of variance we want to retain in the extracted features.\n",
    "\n",
    "For example, if we set it to 0.95, sklearn will choose the **minimum number of principal components** such that 95% of the variance is retained."
   ]
  },
  {
   "cell_type": "code",
   "execution_count": 4,
   "metadata": {},
   "outputs": [
    {
     "name": "stdout",
     "output_type": "stream",
     "text": [
      "CPU times: user 18.5 s, sys: 1.27 s, total: 19.7 s\n",
      "Wall time: 6.48 s\n"
     ]
    },
    {
     "data": {
      "text/plain": [
       "PCA(copy=True, iterated_power='auto', n_components=0.95, random_state=None,\n",
       "    svd_solver='auto', tol=0.0, whiten=False)"
      ]
     },
     "execution_count": 4,
     "metadata": {},
     "output_type": "execute_result"
    }
   ],
   "source": [
    "%%time\n",
    "pca = PCA(n_components=0.95)\n",
    "\n",
    "pca.fit(X_train)"
   ]
  },
  {
   "cell_type": "markdown",
   "metadata": {},
   "source": [
    "## Number of Principle Components\n",
    "\n",
    "We can find how many components PCA chose after fitting the model by using the following attribute: n_components_\n",
    "\n",
    "We will see that 95% of the variance amounts to **315 principal components**."
   ]
  },
  {
   "cell_type": "code",
   "execution_count": 5,
   "metadata": {},
   "outputs": [
    {
     "name": "stdout",
     "output_type": "stream",
     "text": [
      "Numberof Principle Components:  330\n"
     ]
    },
    {
     "data": {
      "text/plain": [
       "0.950344532174105"
      ]
     },
     "execution_count": 5,
     "metadata": {},
     "output_type": "execute_result"
    }
   ],
   "source": [
    "print(\"Numberof Principle Components: \", pca.n_components_)  \n",
    "\n",
    "np.sum(pca.explained_variance_ratio_)"
   ]
  },
  {
   "cell_type": "markdown",
   "metadata": {},
   "source": [
    "## Apply the Mapping (Transform) to both the Training Set and the Test Set"
   ]
  },
  {
   "cell_type": "code",
   "execution_count": 6,
   "metadata": {},
   "outputs": [],
   "source": [
    "X_train_pca = pca.transform(X_train)\n",
    "X_test_pca = pca.transform(X_test)"
   ]
  },
  {
   "cell_type": "markdown",
   "metadata": {},
   "source": [
    "## Classification using Logistic Regression\n",
    "\n",
    "To examine the effect of PCA on the speed of a classification algorithm, we classify the MNIST dataset using Logistic Regression.\n",
    "\n",
    "We train two Logistic Regression models by using\n",
    "- Original 784 features\n",
    "- Reduced number of features (after applying PCA)\n",
    "\n",
    "We observe that both the running-time and accuracy improve after compressing the features using PCA.\n",
    "\n",
    "Thus, PCA can speed up some classification algorithms (but not always, e.g., Random Forest classifier performance degrades after using PCA on the dataset)."
   ]
  },
  {
   "cell_type": "code",
   "execution_count": 7,
   "metadata": {},
   "outputs": [
    {
     "name": "stderr",
     "output_type": "stream",
     "text": [
      "/Users/hasan/anaconda3/lib/python3.7/site-packages/sklearn/linear_model/logistic.py:947: ConvergenceWarning: lbfgs failed to converge. Increase the number of iterations.\n",
      "  \"of iterations.\", ConvergenceWarning)\n"
     ]
    },
    {
     "name": "stdout",
     "output_type": "stream",
     "text": [
      "Running Time (Softmax Regression) 8.7s.\n",
      "Test Accuracy (Softmax):  0.914\n",
      "\n",
      "Running Time (PCA+Softmax Regression) 4.1s.\n",
      "Test Accuracy (PCA+Softmax):  0.9220714285714285\n"
     ]
    },
    {
     "name": "stderr",
     "output_type": "stream",
     "text": [
      "/Users/hasan/anaconda3/lib/python3.7/site-packages/sklearn/linear_model/logistic.py:947: ConvergenceWarning: lbfgs failed to converge. Increase the number of iterations.\n",
      "  \"of iterations.\", ConvergenceWarning)\n"
     ]
    }
   ],
   "source": [
    "t0 = time.time()\n",
    "softmax_lbfgs = LogisticRegression(solver='lbfgs', multi_class='multinomial', max_iter=100)\n",
    "\n",
    "softmax_lbfgs.fit(X_train, y_train)\n",
    "t1 = time.time()\n",
    "\n",
    "duration_softmax_lbfgs = t1 - t0\n",
    "print(\"Running Time (Softmax Regression) {:.1f}s.\".format(duration_softmax_lbfgs))\n",
    "\n",
    "\n",
    "y_test_predicted = softmax_lbfgs.predict(X_test)\n",
    "\n",
    "accuracy_score_test_softmax_lbfgs = np.mean(y_test_predicted == y_test)\n",
    "print(\"Test Accuracy (Softmax): \", accuracy_score_test_softmax_lbfgs)\n",
    "\n",
    "\n",
    "softmax_pca_lbfgs = LogisticRegression(solver='lbfgs', multi_class='multinomial',max_iter=100)\n",
    "\n",
    "t0 = time.time()\n",
    "softmax_pca_lbfgs.fit(X_train_pca, y_train)\n",
    "t1 = time.time()\n",
    "\n",
    "duration_softmax_pca_lbfgs = t1 - t0\n",
    "print(\"\\nRunning Time (PCA+Softmax Regression) {:.1f}s.\".format(duration_softmax_pca_lbfgs))\n",
    "\n",
    "y_test_predicted = softmax_pca_lbfgs.predict(X_test_pca)\n",
    "\n",
    "accuracy_score_test_softmax_pca_lbfgs = np.mean(y_test_predicted == y_test)\n",
    "print(\"Test Accuracy (PCA+Softmax): \", accuracy_score_test_softmax_pca_lbfgs)"
   ]
  },
  {
   "cell_type": "markdown",
   "metadata": {},
   "source": [
    "## Data Decompression\n",
    "\n",
    "It is possible to decompress the reduced dataset back to 784 dimensions by applying the inverse transformation of the PCA projection. \n",
    "\n",
    "However, this will not give us back the original data, since the projection lost a bit of information (within the 5% variance that was dropped), but it will likely be quite close to the original data. \n",
    "\n",
    "The mean squared distance between the original data and the reconstructed data (compressed and then decompressed) is called the **reconstruction error**. \n",
    "\n",
    "To illustrate the data decompression using PCA, we compress the MNIST dataset down to 154 dimensions, then use the inverse_transform() method to decompress it back to 784 dimensions. "
   ]
  },
  {
   "cell_type": "code",
   "execution_count": 8,
   "metadata": {},
   "outputs": [
    {
     "name": "stdout",
     "output_type": "stream",
     "text": [
      "X_recovered:  (56000, 784)\n",
      "Reconstruction Error:  0.17449765473181947\n"
     ]
    }
   ],
   "source": [
    "pca = PCA(n_components = 154)\n",
    "X_reduced = pca.fit_transform(X_train)\n",
    "X_recovered = pca.inverse_transform(X_reduced)\n",
    "\n",
    "print(\"X_recovered: \", X_recovered.shape)\n",
    "\n",
    "reconstruction_error = mean_squared_error(X_train, X_recovered)\n",
    "\n",
    "print(\"Reconstruction Error: \", reconstruction_error)"
   ]
  },
  {
   "cell_type": "markdown",
   "metadata": {},
   "source": [
    "## Visualize a Recovered Digit"
   ]
  },
  {
   "cell_type": "code",
   "execution_count": 9,
   "metadata": {},
   "outputs": [
    {
     "data": {
      "image/png": "[encoded data removed]",
      "text/plain": [
       "<Figure size 432x288 with 1 Axes>"
      ]
     },
     "metadata": {
      "needs_background": "light"
     },
     "output_type": "display_data"
    }
   ],
   "source": [
    "random_digit = X_recovered[2]\n",
    "\n",
    "random_digit_image = random_digit.reshape(28, 28)\n",
    "\n",
    "plt.imshow(random_digit_image, cmap = 'gray', interpolation=\"nearest\")\n",
    "#plt.axis(\"off\")\n",
    "plt.show()"
   ]
  },
  {
   "cell_type": "markdown",
   "metadata": {},
   "source": [
    "## Comparison: Original vs. Reconstructed Images\n",
    "\n",
    "We compare a subset of digits after compression and decompression. \n",
    "\n",
    "We see that there is a slight image quality loss, but the digits are still mostly intact."
   ]
  },
  {
   "cell_type": "code",
   "execution_count": 10,
   "metadata": {},
   "outputs": [],
   "source": [
    "def plot_digits(instances, images_per_row=5, **options):\n",
    "    size = 28\n",
    "    images_per_row = min(len(instances), images_per_row)\n",
    "    images = [instance.reshape(size,size) for instance in instances]\n",
    "    n_rows = (len(instances) - 1) // images_per_row + 1\n",
    "    row_images = []\n",
    "    n_empty = n_rows * images_per_row - len(instances)\n",
    "    images.append(np.zeros((size, size * n_empty)))\n",
    "    for row in range(n_rows):\n",
    "        rimages = images[row * images_per_row : (row + 1) * images_per_row]\n",
    "        row_images.append(np.concatenate(rimages, axis=1))\n",
    "    image = np.concatenate(row_images, axis=0)\n",
    "    plt.imshow(image, cmap = mpl.cm.binary, **options)\n",
    "    plt.axis(\"off\")"
   ]
  },
  {
   "cell_type": "code",
   "execution_count": 11,
   "metadata": {},
   "outputs": [
    {
     "data": {
      "image/png": "[encoded data removed]",
      "text/plain": [
       "<Figure size 1296x576 with 2 Axes>"
      ]
     },
     "metadata": {
      "needs_background": "light"
     },
     "output_type": "display_data"
    }
   ],
   "source": [
    "plt.figure(figsize=(18, 8))\n",
    "plt.subplot(121)\n",
    "plot_digits(X_train[::2100])\n",
    "plt.title(\"Original\", fontsize=16)\n",
    "plt.subplot(122)\n",
    "plot_digits(X_recovered[::2100])\n",
    "plt.title(\"Compressed\", fontsize=16)\n",
    "plt.show()"
   ]
  }
 ],
 "metadata": {
  "anaconda-cloud": {},
  "kernelspec": {
   "display_name": "Python 3",
   "language": "python",
   "name": "python3"
  },
  "language_info": {
   "codemirror_mode": {
    "name": "ipython",
    "version": 3
   },
   "file_extension": ".py",
   "mimetype": "text/x-python",
   "name": "python",
   "nbconvert_exporter": "python",
   "pygments_lexer": "ipython3",
   "version": "3.7.3"
  }
 },
 "nbformat": 4,
 "nbformat_minor": 1
}
